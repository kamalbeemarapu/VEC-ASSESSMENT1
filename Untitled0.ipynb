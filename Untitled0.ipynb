{
  "nbformat": 4,
  "nbformat_minor": 0,
  "metadata": {
    "colab": {
      "provenance": [],
      "include_colab_link": true
    },
    "kernelspec": {
      "name": "python3",
      "display_name": "Python 3"
    },
    "language_info": {
      "name": "python"
    }
  },
  "cells": [
    {
      "cell_type": "markdown",
      "metadata": {
        "id": "view-in-github",
        "colab_type": "text"
      },
      "source": [
        "<a href=\"https://colab.research.google.com/github/kamalbeemarapu/VEC-ASSESSMENT1/blob/main/Untitled0.ipynb\" target=\"_parent\"><img src=\"https://colab.research.google.com/assets/colab-badge.svg\" alt=\"Open In Colab\"/></a>"
      ]
    },
    {
      "cell_type": "code",
      "execution_count": null,
      "metadata": {
        "id": "3ObF7JMNWZbx"
      },
      "outputs": [],
      "source": [
        "import pandas as pd\n",
        "import numpy as np\n",
        "import matplotlib.pyplot as plt\n",
        "import seaborn as ans"
      ]
    },
    {
      "cell_type": "code",
      "source": [
        "data=pd.read_csv(\"/content/measures_v2.csv\")"
      ],
      "metadata": {
        "id": "qLV8umsqzFnH"
      },
      "execution_count": null,
      "outputs": []
    },
    {
      "cell_type": "code",
      "source": [
        "data.drop(['stator_yoke','stator_tooth','stator_winding','torque'],axis =1 )"
      ],
      "metadata": {
        "id": "PfO13ZSNFdj_",
        "outputId": "32de4bd2-a5ee-410c-e605-ce551c106da2",
        "colab": {
          "base_uri": "https://localhost:8080/",
          "height": 423
        }
      },
      "execution_count": null,
      "outputs": [
        {
          "output_type": "execute_result",
          "data": {
            "text/plain": [
              "             u_q    coolant       u_d  motor_speed        i_d       i_q  \\\n",
              "0      -0.450682  18.805172 -0.350055     0.002866   0.004419  0.000328   \n",
              "1      -0.325737  18.818571 -0.305803     0.000257   0.000606 -0.000785   \n",
              "2      -0.440864  18.828770 -0.372503     0.002355   0.001290  0.000386   \n",
              "3      -0.327026  18.835567 -0.316199     0.006105   0.000026  0.002046   \n",
              "4      -0.471150  18.857033 -0.332272     0.003133  -0.064317  0.037184   \n",
              "...          ...        ...       ...          ...        ...       ...   \n",
              "9484  130.281998  19.388027 -6.290980  4999.948242 -96.850952  0.626925   \n",
              "9485  130.225784  19.411837 -6.212975  4999.945801 -96.810219  0.596171   \n",
              "9486  130.191605  19.424374 -6.183156  4999.948730 -96.739418  0.602454   \n",
              "9487  130.287216  19.430655 -6.159606  4999.950195 -96.537186  0.642467   \n",
              "9488  130.434418  19.433716 -6.267017          NaN        NaN       NaN   \n",
              "\n",
              "             pm    ambient  profile_id  \n",
              "0     24.554214  19.850691        17.0  \n",
              "1     24.538078  19.850672        17.0  \n",
              "2     24.544693  19.850657        17.0  \n",
              "3     24.554018  19.850647        17.0  \n",
              "4     24.565397  19.850639        17.0  \n",
              "...         ...        ...         ...  \n",
              "9484  59.007412  23.778885        17.0  \n",
              "9485  59.004562  23.729212        17.0  \n",
              "9486  58.993515  23.680283        17.0  \n",
              "9487  58.964790  23.636530        17.0  \n",
              "9488        NaN        NaN         NaN  \n",
              "\n",
              "[9489 rows x 9 columns]"
            ],
            "text/html": [
              "\n",
              "  <div id=\"df-c9bbc740-c588-44e9-9304-a2767da2474d\" class=\"colab-df-container\">\n",
              "    <div>\n",
              "<style scoped>\n",
              "    .dataframe tbody tr th:only-of-type {\n",
              "        vertical-align: middle;\n",
              "    }\n",
              "\n",
              "    .dataframe tbody tr th {\n",
              "        vertical-align: top;\n",
              "    }\n",
              "\n",
              "    .dataframe thead th {\n",
              "        text-align: right;\n",
              "    }\n",
              "</style>\n",
              "<table border=\"1\" class=\"dataframe\">\n",
              "  <thead>\n",
              "    <tr style=\"text-align: right;\">\n",
              "      <th></th>\n",
              "      <th>u_q</th>\n",
              "      <th>coolant</th>\n",
              "      <th>u_d</th>\n",
              "      <th>motor_speed</th>\n",
              "      <th>i_d</th>\n",
              "      <th>i_q</th>\n",
              "      <th>pm</th>\n",
              "      <th>ambient</th>\n",
              "      <th>profile_id</th>\n",
              "    </tr>\n",
              "  </thead>\n",
              "  <tbody>\n",
              "    <tr>\n",
              "      <th>0</th>\n",
              "      <td>-0.450682</td>\n",
              "      <td>18.805172</td>\n",
              "      <td>-0.350055</td>\n",
              "      <td>0.002866</td>\n",
              "      <td>0.004419</td>\n",
              "      <td>0.000328</td>\n",
              "      <td>24.554214</td>\n",
              "      <td>19.850691</td>\n",
              "      <td>17.0</td>\n",
              "    </tr>\n",
              "    <tr>\n",
              "      <th>1</th>\n",
              "      <td>-0.325737</td>\n",
              "      <td>18.818571</td>\n",
              "      <td>-0.305803</td>\n",
              "      <td>0.000257</td>\n",
              "      <td>0.000606</td>\n",
              "      <td>-0.000785</td>\n",
              "      <td>24.538078</td>\n",
              "      <td>19.850672</td>\n",
              "      <td>17.0</td>\n",
              "    </tr>\n",
              "    <tr>\n",
              "      <th>2</th>\n",
              "      <td>-0.440864</td>\n",
              "      <td>18.828770</td>\n",
              "      <td>-0.372503</td>\n",
              "      <td>0.002355</td>\n",
              "      <td>0.001290</td>\n",
              "      <td>0.000386</td>\n",
              "      <td>24.544693</td>\n",
              "      <td>19.850657</td>\n",
              "      <td>17.0</td>\n",
              "    </tr>\n",
              "    <tr>\n",
              "      <th>3</th>\n",
              "      <td>-0.327026</td>\n",
              "      <td>18.835567</td>\n",
              "      <td>-0.316199</td>\n",
              "      <td>0.006105</td>\n",
              "      <td>0.000026</td>\n",
              "      <td>0.002046</td>\n",
              "      <td>24.554018</td>\n",
              "      <td>19.850647</td>\n",
              "      <td>17.0</td>\n",
              "    </tr>\n",
              "    <tr>\n",
              "      <th>4</th>\n",
              "      <td>-0.471150</td>\n",
              "      <td>18.857033</td>\n",
              "      <td>-0.332272</td>\n",
              "      <td>0.003133</td>\n",
              "      <td>-0.064317</td>\n",
              "      <td>0.037184</td>\n",
              "      <td>24.565397</td>\n",
              "      <td>19.850639</td>\n",
              "      <td>17.0</td>\n",
              "    </tr>\n",
              "    <tr>\n",
              "      <th>...</th>\n",
              "      <td>...</td>\n",
              "      <td>...</td>\n",
              "      <td>...</td>\n",
              "      <td>...</td>\n",
              "      <td>...</td>\n",
              "      <td>...</td>\n",
              "      <td>...</td>\n",
              "      <td>...</td>\n",
              "      <td>...</td>\n",
              "    </tr>\n",
              "    <tr>\n",
              "      <th>9484</th>\n",
              "      <td>130.281998</td>\n",
              "      <td>19.388027</td>\n",
              "      <td>-6.290980</td>\n",
              "      <td>4999.948242</td>\n",
              "      <td>-96.850952</td>\n",
              "      <td>0.626925</td>\n",
              "      <td>59.007412</td>\n",
              "      <td>23.778885</td>\n",
              "      <td>17.0</td>\n",
              "    </tr>\n",
              "    <tr>\n",
              "      <th>9485</th>\n",
              "      <td>130.225784</td>\n",
              "      <td>19.411837</td>\n",
              "      <td>-6.212975</td>\n",
              "      <td>4999.945801</td>\n",
              "      <td>-96.810219</td>\n",
              "      <td>0.596171</td>\n",
              "      <td>59.004562</td>\n",
              "      <td>23.729212</td>\n",
              "      <td>17.0</td>\n",
              "    </tr>\n",
              "    <tr>\n",
              "      <th>9486</th>\n",
              "      <td>130.191605</td>\n",
              "      <td>19.424374</td>\n",
              "      <td>-6.183156</td>\n",
              "      <td>4999.948730</td>\n",
              "      <td>-96.739418</td>\n",
              "      <td>0.602454</td>\n",
              "      <td>58.993515</td>\n",
              "      <td>23.680283</td>\n",
              "      <td>17.0</td>\n",
              "    </tr>\n",
              "    <tr>\n",
              "      <th>9487</th>\n",
              "      <td>130.287216</td>\n",
              "      <td>19.430655</td>\n",
              "      <td>-6.159606</td>\n",
              "      <td>4999.950195</td>\n",
              "      <td>-96.537186</td>\n",
              "      <td>0.642467</td>\n",
              "      <td>58.964790</td>\n",
              "      <td>23.636530</td>\n",
              "      <td>17.0</td>\n",
              "    </tr>\n",
              "    <tr>\n",
              "      <th>9488</th>\n",
              "      <td>130.434418</td>\n",
              "      <td>19.433716</td>\n",
              "      <td>-6.267017</td>\n",
              "      <td>NaN</td>\n",
              "      <td>NaN</td>\n",
              "      <td>NaN</td>\n",
              "      <td>NaN</td>\n",
              "      <td>NaN</td>\n",
              "      <td>NaN</td>\n",
              "    </tr>\n",
              "  </tbody>\n",
              "</table>\n",
              "<p>9489 rows × 9 columns</p>\n",
              "</div>\n",
              "    <div class=\"colab-df-buttons\">\n",
              "\n",
              "  <div class=\"colab-df-container\">\n",
              "    <button class=\"colab-df-convert\" onclick=\"convertToInteractive('df-c9bbc740-c588-44e9-9304-a2767da2474d')\"\n",
              "            title=\"Convert this dataframe to an interactive table.\"\n",
              "            style=\"display:none;\">\n",
              "\n",
              "  <svg xmlns=\"http://www.w3.org/2000/svg\" height=\"24px\" viewBox=\"0 -960 960 960\">\n",
              "    <path d=\"M120-120v-720h720v720H120Zm60-500h600v-160H180v160Zm220 220h160v-160H400v160Zm0 220h160v-160H400v160ZM180-400h160v-160H180v160Zm440 0h160v-160H620v160ZM180-180h160v-160H180v160Zm440 0h160v-160H620v160Z\"/>\n",
              "  </svg>\n",
              "    </button>\n",
              "\n",
              "  <style>\n",
              "    .colab-df-container {\n",
              "      display:flex;\n",
              "      gap: 12px;\n",
              "    }\n",
              "\n",
              "    .colab-df-convert {\n",
              "      background-color: #E8F0FE;\n",
              "      border: none;\n",
              "      border-radius: 50%;\n",
              "      cursor: pointer;\n",
              "      display: none;\n",
              "      fill: #1967D2;\n",
              "      height: 32px;\n",
              "      padding: 0 0 0 0;\n",
              "      width: 32px;\n",
              "    }\n",
              "\n",
              "    .colab-df-convert:hover {\n",
              "      background-color: #E2EBFA;\n",
              "      box-shadow: 0px 1px 2px rgba(60, 64, 67, 0.3), 0px 1px 3px 1px rgba(60, 64, 67, 0.15);\n",
              "      fill: #174EA6;\n",
              "    }\n",
              "\n",
              "    .colab-df-buttons div {\n",
              "      margin-bottom: 4px;\n",
              "    }\n",
              "\n",
              "    [theme=dark] .colab-df-convert {\n",
              "      background-color: #3B4455;\n",
              "      fill: #D2E3FC;\n",
              "    }\n",
              "\n",
              "    [theme=dark] .colab-df-convert:hover {\n",
              "      background-color: #434B5C;\n",
              "      box-shadow: 0px 1px 3px 1px rgba(0, 0, 0, 0.15);\n",
              "      filter: drop-shadow(0px 1px 2px rgba(0, 0, 0, 0.3));\n",
              "      fill: #FFFFFF;\n",
              "    }\n",
              "  </style>\n",
              "\n",
              "    <script>\n",
              "      const buttonEl =\n",
              "        document.querySelector('#df-c9bbc740-c588-44e9-9304-a2767da2474d button.colab-df-convert');\n",
              "      buttonEl.style.display =\n",
              "        google.colab.kernel.accessAllowed ? 'block' : 'none';\n",
              "\n",
              "      async function convertToInteractive(key) {\n",
              "        const element = document.querySelector('#df-c9bbc740-c588-44e9-9304-a2767da2474d');\n",
              "        const dataTable =\n",
              "          await google.colab.kernel.invokeFunction('convertToInteractive',\n",
              "                                                    [key], {});\n",
              "        if (!dataTable) return;\n",
              "\n",
              "        const docLinkHtml = 'Like what you see? Visit the ' +\n",
              "          '<a target=\"_blank\" href=https://colab.research.google.com/notebooks/data_table.ipynb>data table notebook</a>'\n",
              "          + ' to learn more about interactive tables.';\n",
              "        element.innerHTML = '';\n",
              "        dataTable['output_type'] = 'display_data';\n",
              "        await google.colab.output.renderOutput(dataTable, element);\n",
              "        const docLink = document.createElement('div');\n",
              "        docLink.innerHTML = docLinkHtml;\n",
              "        element.appendChild(docLink);\n",
              "      }\n",
              "    </script>\n",
              "  </div>\n",
              "\n",
              "\n",
              "<div id=\"df-610a742e-948d-46bd-9e93-ad588fb36c37\">\n",
              "  <button class=\"colab-df-quickchart\" onclick=\"quickchart('df-610a742e-948d-46bd-9e93-ad588fb36c37')\"\n",
              "            title=\"Suggest charts\"\n",
              "            style=\"display:none;\">\n",
              "\n",
              "<svg xmlns=\"http://www.w3.org/2000/svg\" height=\"24px\"viewBox=\"0 0 24 24\"\n",
              "     width=\"24px\">\n",
              "    <g>\n",
              "        <path d=\"M19 3H5c-1.1 0-2 .9-2 2v14c0 1.1.9 2 2 2h14c1.1 0 2-.9 2-2V5c0-1.1-.9-2-2-2zM9 17H7v-7h2v7zm4 0h-2V7h2v10zm4 0h-2v-4h2v4z\"/>\n",
              "    </g>\n",
              "</svg>\n",
              "  </button>\n",
              "\n",
              "<style>\n",
              "  .colab-df-quickchart {\n",
              "      --bg-color: #E8F0FE;\n",
              "      --fill-color: #1967D2;\n",
              "      --hover-bg-color: #E2EBFA;\n",
              "      --hover-fill-color: #174EA6;\n",
              "      --disabled-fill-color: #AAA;\n",
              "      --disabled-bg-color: #DDD;\n",
              "  }\n",
              "\n",
              "  [theme=dark] .colab-df-quickchart {\n",
              "      --bg-color: #3B4455;\n",
              "      --fill-color: #D2E3FC;\n",
              "      --hover-bg-color: #434B5C;\n",
              "      --hover-fill-color: #FFFFFF;\n",
              "      --disabled-bg-color: #3B4455;\n",
              "      --disabled-fill-color: #666;\n",
              "  }\n",
              "\n",
              "  .colab-df-quickchart {\n",
              "    background-color: var(--bg-color);\n",
              "    border: none;\n",
              "    border-radius: 50%;\n",
              "    cursor: pointer;\n",
              "    display: none;\n",
              "    fill: var(--fill-color);\n",
              "    height: 32px;\n",
              "    padding: 0;\n",
              "    width: 32px;\n",
              "  }\n",
              "\n",
              "  .colab-df-quickchart:hover {\n",
              "    background-color: var(--hover-bg-color);\n",
              "    box-shadow: 0 1px 2px rgba(60, 64, 67, 0.3), 0 1px 3px 1px rgba(60, 64, 67, 0.15);\n",
              "    fill: var(--button-hover-fill-color);\n",
              "  }\n",
              "\n",
              "  .colab-df-quickchart-complete:disabled,\n",
              "  .colab-df-quickchart-complete:disabled:hover {\n",
              "    background-color: var(--disabled-bg-color);\n",
              "    fill: var(--disabled-fill-color);\n",
              "    box-shadow: none;\n",
              "  }\n",
              "\n",
              "  .colab-df-spinner {\n",
              "    border: 2px solid var(--fill-color);\n",
              "    border-color: transparent;\n",
              "    border-bottom-color: var(--fill-color);\n",
              "    animation:\n",
              "      spin 1s steps(1) infinite;\n",
              "  }\n",
              "\n",
              "  @keyframes spin {\n",
              "    0% {\n",
              "      border-color: transparent;\n",
              "      border-bottom-color: var(--fill-color);\n",
              "      border-left-color: var(--fill-color);\n",
              "    }\n",
              "    20% {\n",
              "      border-color: transparent;\n",
              "      border-left-color: var(--fill-color);\n",
              "      border-top-color: var(--fill-color);\n",
              "    }\n",
              "    30% {\n",
              "      border-color: transparent;\n",
              "      border-left-color: var(--fill-color);\n",
              "      border-top-color: var(--fill-color);\n",
              "      border-right-color: var(--fill-color);\n",
              "    }\n",
              "    40% {\n",
              "      border-color: transparent;\n",
              "      border-right-color: var(--fill-color);\n",
              "      border-top-color: var(--fill-color);\n",
              "    }\n",
              "    60% {\n",
              "      border-color: transparent;\n",
              "      border-right-color: var(--fill-color);\n",
              "    }\n",
              "    80% {\n",
              "      border-color: transparent;\n",
              "      border-right-color: var(--fill-color);\n",
              "      border-bottom-color: var(--fill-color);\n",
              "    }\n",
              "    90% {\n",
              "      border-color: transparent;\n",
              "      border-bottom-color: var(--fill-color);\n",
              "    }\n",
              "  }\n",
              "</style>\n",
              "\n",
              "  <script>\n",
              "    async function quickchart(key) {\n",
              "      const quickchartButtonEl =\n",
              "        document.querySelector('#' + key + ' button');\n",
              "      quickchartButtonEl.disabled = true;  // To prevent multiple clicks.\n",
              "      quickchartButtonEl.classList.add('colab-df-spinner');\n",
              "      try {\n",
              "        const charts = await google.colab.kernel.invokeFunction(\n",
              "            'suggestCharts', [key], {});\n",
              "      } catch (error) {\n",
              "        console.error('Error during call to suggestCharts:', error);\n",
              "      }\n",
              "      quickchartButtonEl.classList.remove('colab-df-spinner');\n",
              "      quickchartButtonEl.classList.add('colab-df-quickchart-complete');\n",
              "    }\n",
              "    (() => {\n",
              "      let quickchartButtonEl =\n",
              "        document.querySelector('#df-610a742e-948d-46bd-9e93-ad588fb36c37 button');\n",
              "      quickchartButtonEl.style.display =\n",
              "        google.colab.kernel.accessAllowed ? 'block' : 'none';\n",
              "    })();\n",
              "  </script>\n",
              "</div>\n",
              "\n",
              "    </div>\n",
              "  </div>\n"
            ],
            "application/vnd.google.colaboratory.intrinsic+json": {
              "type": "dataframe",
              "summary": "{\n  \"name\": \"data\",\n  \"rows\": 9489,\n  \"fields\": [\n    {\n      \"column\": \"u_q\",\n      \"properties\": {\n        \"dtype\": \"number\",\n        \"std\": 13.840187457890243,\n        \"min\": -0.9744325280189514,\n        \"max\": 131.31008911132812,\n        \"num_unique_values\": 9308,\n        \"samples\": [\n          86.8402328491211,\n          86.96379089355469,\n          88.020751953125\n        ],\n        \"semantic_type\": \"\",\n        \"description\": \"\"\n      }\n    },\n    {\n      \"column\": \"coolant\",\n      \"properties\": {\n        \"dtype\": \"number\",\n        \"std\": 0.4688396457195604,\n        \"min\": 17.516183853149414,\n        \"max\": 19.98602867126465,\n        \"num_unique_values\": 9431,\n        \"samples\": [\n          18.74652671813965,\n          18.55282020568848,\n          18.380754470825195\n        ],\n        \"semantic_type\": \"\",\n        \"description\": \"\"\n      }\n    },\n    {\n      \"column\": \"u_d\",\n      \"properties\": {\n        \"dtype\": \"number\",\n        \"std\": 27.1442648292938,\n        \"min\": -97.08170318603516,\n        \"max\": 0.8511807322502136,\n        \"num_unique_values\": 9364,\n        \"samples\": [\n          -95.5190887451172,\n          -96.59928131103516,\n          -6.747572898864746\n        ],\n        \"semantic_type\": \"\",\n        \"description\": \"\"\n      }\n    },\n    {\n      \"column\": \"motor_speed\",\n      \"properties\": {\n        \"dtype\": \"number\",\n        \"std\": 280.42699954744205,\n        \"min\": -0.0041424613445997,\n        \"max\": 4999.97119140625,\n        \"num_unique_values\": 146,\n        \"samples\": [\n          4965.794921875,\n          4999.9501953125,\n          630.3953247070312\n        ],\n        \"semantic_type\": \"\",\n        \"description\": \"\"\n      }\n    },\n    {\n      \"column\": \"i_d\",\n      \"properties\": {\n        \"dtype\": \"number\",\n        \"std\": 15.054997601062425,\n        \"min\": -143.61700439453125,\n        \"max\": 0.0044191367924213,\n        \"num_unique_values\": 9133,\n        \"samples\": [\n          -138.1566619873047,\n          -138.53720092773438,\n          -138.15724182128906\n        ],\n        \"semantic_type\": \"\",\n        \"description\": \"\"\n      }\n    },\n    {\n      \"column\": \"i_q\",\n      \"properties\": {\n        \"dtype\": \"number\",\n        \"std\": 15.851512812514917,\n        \"min\": -0.0007853526622056,\n        \"max\": 55.308326721191406,\n        \"num_unique_values\": 9043,\n        \"samples\": [\n          53.22530746459961,\n          52.872406005859375,\n          53.37685394287109\n        ],\n        \"semantic_type\": \"\",\n        \"description\": \"\"\n      }\n    },\n    {\n      \"column\": \"pm\",\n      \"properties\": {\n        \"dtype\": \"number\",\n        \"std\": 9.489755386710703,\n        \"min\": 24.26473617553711,\n        \"max\": 69.58853149414062,\n        \"num_unique_values\": 9425,\n        \"samples\": [\n          69.41303253173828,\n          63.05279159545898,\n          68.84333801269531\n        ],\n        \"semantic_type\": \"\",\n        \"description\": \"\"\n      }\n    },\n    {\n      \"column\": \"ambient\",\n      \"properties\": {\n        \"dtype\": \"number\",\n        \"std\": 1.292340000738283,\n        \"min\": 19.85062026977539,\n        \"max\": 25.875354766845703,\n        \"num_unique_values\": 9308,\n        \"samples\": [\n          24.804107666015625,\n          25.30912971496582,\n          23.328243255615234\n        ],\n        \"semantic_type\": \"\",\n        \"description\": \"\"\n      }\n    },\n    {\n      \"column\": \"profile_id\",\n      \"properties\": {\n        \"dtype\": \"number\",\n        \"std\": 0.0,\n        \"min\": 17.0,\n        \"max\": 17.0,\n        \"num_unique_values\": 1,\n        \"samples\": [\n          17.0\n        ],\n        \"semantic_type\": \"\",\n        \"description\": \"\"\n      }\n    }\n  ]\n}"
            }
          },
          "metadata": {},
          "execution_count": 3
        }
      ]
    },
    {
      "cell_type": "code",
      "source": [
        "data.isnull().sum()"
      ],
      "metadata": {
        "id": "GvXmFCF6GawT",
        "outputId": "21e3ca98-db26-4981-e7ae-ee68ca7586c6",
        "colab": {
          "base_uri": "https://localhost:8080/"
        }
      },
      "execution_count": null,
      "outputs": [
        {
          "output_type": "execute_result",
          "data": {
            "text/plain": [
              "u_q               0\n",
              "coolant           0\n",
              "stator_winding    0\n",
              "u_d               0\n",
              "stator_tooth      0\n",
              "motor_speed       1\n",
              "i_d               1\n",
              "i_q               1\n",
              "pm                1\n",
              "stator_yoke       1\n",
              "ambient           1\n",
              "torque            1\n",
              "profile_id        1\n",
              "dtype: int64"
            ]
          },
          "metadata": {},
          "execution_count": 4
        }
      ]
    },
    {
      "cell_type": "code",
      "source": [
        "from sklearn.preprocessing import MinMaxScaler"
      ],
      "metadata": {
        "id": "ufvA0wWsPvrh"
      },
      "execution_count": null,
      "outputs": []
    },
    {
      "cell_type": "code",
      "source": [
        "data.fillna(data.mean(),inplace=True)"
      ],
      "metadata": {
        "id": "oP-fpqNvQKyJ"
      },
      "execution_count": null,
      "outputs": []
    },
    {
      "cell_type": "code",
      "source": [
        "data.isnull().sum()"
      ],
      "metadata": {
        "id": "ADg2RzplQXfq",
        "colab": {
          "base_uri": "https://localhost:8080/"
        },
        "outputId": "283f060f-21ee-425b-d620-bb8037c1a3e9"
      },
      "execution_count": null,
      "outputs": [
        {
          "output_type": "execute_result",
          "data": {
            "text/plain": [
              "u_q               0\n",
              "coolant           0\n",
              "stator_winding    0\n",
              "u_d               0\n",
              "stator_tooth      0\n",
              "motor_speed       0\n",
              "i_d               0\n",
              "i_q               0\n",
              "pm                0\n",
              "stator_yoke       0\n",
              "ambient           0\n",
              "torque            0\n",
              "profile_id        0\n",
              "dtype: int64"
            ]
          },
          "metadata": {},
          "execution_count": 7
        }
      ]
    },
    {
      "cell_type": "code",
      "source": [
        "plt.figure(figsize=(15,6))\n",
        "data['profile_id'].value_counts().plot(kind='bar')"
      ],
      "metadata": {
        "id": "mePQ7EvrRHDT",
        "colab": {
          "base_uri": "https://localhost:8080/",
          "height": 577
        },
        "outputId": "47065094-bd49-4f19-ce94-939d4f5223d2"
      },
      "execution_count": null,
      "outputs": [
        {
          "output_type": "execute_result",
          "data": {
            "text/plain": [
              "<Axes: xlabel='profile_id'>"
            ]
          },
          "metadata": {},
          "execution_count": 8
        },
        {
          "output_type": "display_data",
          "data": {
            "text/plain": [
              "<Figure size 1500x600 with 1 Axes>"
            ],
            "image/png": "[encoded data removed]"
          },
          "metadata": {}
        }
      ]
    },
    {
      "cell_type": "code",
      "source": [
        "data.columns"
      ],
      "metadata": {
        "id": "KvU5tEC_Rx-p",
        "colab": {
          "base_uri": "https://localhost:8080/"
        },
        "outputId": "07cfd4fa-b5fa-4e6a-b397-c683bd380c58"
      },
      "execution_count": null,
      "outputs": [
        {
          "output_type": "execute_result",
          "data": {
            "text/plain": [
              "Index(['u_q', 'coolant', 'stator_winding', 'u_d', 'stator_tooth',\n",
              "       'motor_speed', 'i_d', 'i_q', 'pm', 'stator_yoke', 'ambient', 'torque',\n",
              "       'profile_id'],\n",
              "      dtype='object')"
            ]
          },
          "metadata": {},
          "execution_count": 9
        }
      ]
    },
    {
      "cell_type": "code",
      "source": [
        "import seaborn as sns"
      ],
      "metadata": {
        "id": "qHOvBVrHk3TZ"
      },
      "execution_count": null,
      "outputs": []
    },
    {
      "source": [
        "import seaborn as sns\n",
        "import matplotlib.pyplot as plt\n",
        "\n",
        "for i in data.columns:\n",
        "  # Use displot instead of distplot\n",
        "  sns.displot(data[i], color='g')\n",
        "  plt.show()"
      ],
      "cell_type": "code",
      "metadata": {
        "id": "zGF3FZwJlSs9",
        "colab": {
          "base_uri": "https://localhost:8080/",
          "height": 1000
        },
        "outputId": "1927d189-5c15-42c8-eaee-c8df7874fffa"
      },
      "execution_count": null,
      "outputs": [
        {
          "output_type": "display_data",
          "data": {
            "text/plain": [
              "<Figure size 500x500 with 1 Axes>"
            ],
            "image/png": "[encoded data removed]"
          },
          "metadata": {}
        },
        {
          "output_type": "display_data",
          "data": {
            "text/plain": [
              "<Figure size 500x500 with 1 Axes>"
            ],
            "image/png": "[encoded data removed]"
          },
          "metadata": {}
        },
        {
          "output_type": "display_data",
          "data": {
            "text/plain": [
              "<Figure size 500x500 with 1 Axes>"
            ],
            "image/png": "[encoded data removed]"
          },
          "metadata": {}
        },
        {
          "output_type": "display_data",
          "data": {
            "text/plain": [
              "<Figure size 500x500 with 1 Axes>"
            ],
            "image/png": "[encoded data removed]"
          },
          "metadata": {}
        },
        {
          "output_type": "display_data",
          "data": {
            "text/plain": [
              "<Figure size 500x500 with 1 Axes>"
            ],
            "image/png": "[encoded data removed]"
          },
          "metadata": {}
        }
      ]
    },
    {
      "source": [
        "from csv import Sniffer\n",
        "import matplotlib.pyplot as plt\n",
        "import seaborn as sns\n",
        "\n",
        "fig, axes = plt.subplots(2, 4, figsize=(20,5),sharey=True)\n",
        "\n",
        "# Use the 'x' and 'y' parameters to specify columns within the DataFrame\n",
        "sns.scatterplot(x='ambient', y='pm', data=data, ax=axes[0][0])\n",
        "sns.scatterplot(x='coolant', y='pm', data=data, ax=axes[0][1])\n",
        "sns"
      ],
      "cell_type": "code",
      "metadata": {
        "id": "2StGXTVBlet0"
      },
      "execution_count": null,
      "outputs": []
    },
    {
      "cell_type": "code",
      "source": [
        "plt.figure(figsize=(14,7))\n",
        "sns.heatmap(data.corr(),annot=True)"
      ],
      "metadata": {
        "id": "hMpRhXVfX4ln"
      },
      "execution_count": null,
      "outputs": []
    },
    {
      "cell_type": "code",
      "source": [
        "data.info()"
      ],
      "metadata": {
        "id": "YZQvEZ59c7Ob"
      },
      "execution_count": null,
      "outputs": []
    },
    {
      "cell_type": "code",
      "source": [
        "data.describe()"
      ],
      "metadata": {
        "id": "pvuQxSUbcz1b"
      },
      "execution_count": null,
      "outputs": []
    },
    {
      "source": [
        "from sklearn.model_selection import train_test_split\n",
        "\n",
        "# Assuming 'data' is your DataFrame and 'target_variable' is the name of your target variable column\n",
        "X = data.drop('pm', axis=1)  # Replace 'target_variable' with the actual name\n",
        "y = data['pm']\n",
        "\n",
        "X_train, X_test, y_train, y_test = train_test_split(X, y, test_size=0.2, random_state=42)  # Adjust test_size and random_state as needed"
      ],
      "cell_type": "code",
      "metadata": {
        "id": "ksltHFClnDWU"
      },
      "execution_count": null,
      "outputs": []
    },
    {
      "cell_type": "code",
      "source": [
        "from sklearn.linear_model import LinearRegression\n",
        "from sklearn.tree import DecisionTreeRegressor\n",
        "from sklearn.ensemble import RandomForestRegressor\n",
        "from sklearn.svm import SVR"
      ],
      "metadata": {
        "id": "JrCoAAnGfE-0"
      },
      "execution_count": null,
      "outputs": []
    },
    {
      "cell_type": "code",
      "source": [
        "Ir=LinearRegression()\n",
        "dr=DecisionTreeRegressor()\n",
        "rf=RandomForestRegressor()\n",
        "svm =SVR()"
      ],
      "metadata": {
        "id": "HvbAhJ9KfebL"
      },
      "execution_count": null,
      "outputs": []
    },
    {
      "cell_type": "code",
      "source": [
        "Ir.fit(X_train,y_train)\n",
        "dr.fit(X_train,y_train)\n",
        "rf.fit(X_train,y_train)\n",
        "svm.fit(X_train,y_train)"
      ],
      "metadata": {
        "id": "pgYwP5y0fmTl"
      },
      "execution_count": null,
      "outputs": []
    },
    {
      "cell_type": "code",
      "source": [
        "y_pred=Ir.predict(X_test)\n",
        "y_pred1=dr.predict(X_test)\n",
        "y_pred2=rf.predict(X_test)\n",
        "y_pred3=svm.predict(X_test)"
      ],
      "metadata": {
        "id": "fsQ2XzfWIaS8"
      },
      "execution_count": null,
      "outputs": []
    },
    {
      "cell_type": "code",
      "source": [
        "y_pred"
      ],
      "metadata": {
        "id": "TdnlxDfjImcL"
      },
      "execution_count": null,
      "outputs": []
    },
    {
      "cell_type": "code",
      "source": [
        "y_pred1"
      ],
      "metadata": {
        "id": "91Uzy-lmIoyT"
      },
      "execution_count": null,
      "outputs": []
    },
    {
      "cell_type": "code",
      "source": [
        "y_pred2"
      ],
      "metadata": {
        "id": "0zod0z5xIojY"
      },
      "execution_count": null,
      "outputs": []
    },
    {
      "cell_type": "code",
      "source": [
        "y_pred3"
      ],
      "metadata": {
        "id": "u8RTSo9zIuJg"
      },
      "execution_count": null,
      "outputs": []
    },
    {
      "cell_type": "markdown",
      "source": [],
      "metadata": {
        "id": "TbckcAKWckpC"
      }
    }
  ]
}